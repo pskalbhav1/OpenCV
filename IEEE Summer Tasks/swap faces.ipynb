{
 "cells": [
  {
   "cell_type": "code",
   "execution_count": 1,
   "metadata": {},
   "outputs": [],
   "source": [
    "import cv2 as cv\n",
    "import numpy as np\n",
    "img=cv.imread('celebs.jpg',cv.IMREAD_COLOR)\n",
    "virat = img [0:80, 40:100]\n",
    "modi = img [20:100, 180:240]\n",
    "img [ 20:100, 240:300] =modi\n",
    "img [ 20:100, 180:240,] = virat\n",
    "img [ 0:80, 40:100] = img [ 20:100, 240:300]\n",
    "p= img [0:168, 0:240]\n",
    "cv.rectangle(p,(180,20),(240,100),(0,255,0),0)\n",
    "cv.rectangle(p,(40,0),(100,80),(0,255,0),0)\n",
    "cv.putText(p,'NARENDRA MODI',(0,100),cv.FONT_HERSHEY_SIMPLEX,0.5,(0,255,0),1,cv.LINE_AA)\n",
    "cv.putText(p,'VIRAT KOHLI',(140,120),cv.FONT_HERSHEY_SIMPLEX,0.5,(0,255,0),1,cv.LINE_AA)\n",
    "cv.imshow('image',p)\n",
    "cv.waitKey(0)\n",
    "cv.destroyAllWindows()"
   ]
  },
  {
   "cell_type": "code",
   "execution_count": null,
   "metadata": {},
   "outputs": [],
   "source": []
  }
 ],
 "metadata": {
  "kernelspec": {
   "display_name": "Python 3",
   "language": "python",
   "name": "python3"
  },
  "language_info": {
   "codemirror_mode": {
    "name": "ipython",
    "version": 3
   },
   "file_extension": ".py",
   "mimetype": "text/x-python",
   "name": "python",
   "nbconvert_exporter": "python",
   "pygments_lexer": "ipython3",
   "version": "3.8.0"
  }
 },
 "nbformat": 4,
 "nbformat_minor": 4
}
