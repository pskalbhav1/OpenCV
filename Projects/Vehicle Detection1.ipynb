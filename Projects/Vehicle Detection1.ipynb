{
 "cells": [
  {
   "cell_type": "code",
   "execution_count": 1,
   "metadata": {},
   "outputs": [
    {
     "name": "stdout",
     "output_type": "stream",
     "text": [
      "Advanced Traffic Management\n",
      "By Praseedha Praveen Kalbhavi\n"
     ]
    },
    {
     "ename": "error",
     "evalue": "OpenCV(4.2.0) C:\\projects\\opencv-python\\opencv\\modules\\imgproc\\src\\color.cpp:182: error: (-215:Assertion failed) !_src.empty() in function 'cv::cvtColor'\n",
     "output_type": "error",
     "traceback": [
      "\u001b[1;31m---------------------------------------------------------------------------\u001b[0m",
      "\u001b[1;31merror\u001b[0m                                     Traceback (most recent call last)",
      "\u001b[1;32m<ipython-input-1-52ad7a529904>\u001b[0m in \u001b[0;36m<module>\u001b[1;34m\u001b[0m\n\u001b[0;32m     20\u001b[0m     \u001b[1;31m# Read first frame\u001b[0m\u001b[1;33m\u001b[0m\u001b[1;33m\u001b[0m\u001b[1;33m\u001b[0m\u001b[0m\n\u001b[0;32m     21\u001b[0m     \u001b[0mret\u001b[0m\u001b[1;33m,\u001b[0m \u001b[0mframe\u001b[0m \u001b[1;33m=\u001b[0m \u001b[0mcap\u001b[0m\u001b[1;33m.\u001b[0m\u001b[0mread\u001b[0m\u001b[1;33m(\u001b[0m\u001b[1;33m)\u001b[0m\u001b[1;33m\u001b[0m\u001b[1;33m\u001b[0m\u001b[0m\n\u001b[1;32m---> 22\u001b[1;33m     \u001b[0mgray\u001b[0m \u001b[1;33m=\u001b[0m \u001b[0mcv2\u001b[0m\u001b[1;33m.\u001b[0m\u001b[0mcvtColor\u001b[0m\u001b[1;33m(\u001b[0m\u001b[0mframe\u001b[0m\u001b[1;33m,\u001b[0m \u001b[0mcv2\u001b[0m\u001b[1;33m.\u001b[0m\u001b[0mCOLOR_BGR2GRAY\u001b[0m\u001b[1;33m)\u001b[0m\u001b[1;33m\u001b[0m\u001b[1;33m\u001b[0m\u001b[0m\n\u001b[0m\u001b[0;32m     23\u001b[0m \u001b[1;33m\u001b[0m\u001b[0m\n\u001b[0;32m     24\u001b[0m     \u001b[1;31m# Pass frame to our car classifier\u001b[0m\u001b[1;33m\u001b[0m\u001b[1;33m\u001b[0m\u001b[1;33m\u001b[0m\u001b[0m\n",
      "\u001b[1;31merror\u001b[0m: OpenCV(4.2.0) C:\\projects\\opencv-python\\opencv\\modules\\imgproc\\src\\color.cpp:182: error: (-215:Assertion failed) !_src.empty() in function 'cv::cvtColor'\n"
     ]
    }
   ],
   "source": [
    "import cv2\n",
    "import time\n",
    "import numpy as np\n",
    "\n",
    "print('Advanced Traffic Management')\n",
    "print('By Praseedha Praveen Kalbhavi')\n",
    "\n",
    "# Create our body classifier\n",
    "car_classifier = cv2.CascadeClassifier('car.xml')\n",
    "bus_classifier = cv2.CascadeClassifier('bus.xml')\n",
    "bike_classifier = cv2.CascadeClassifier('bike.xml')\n",
    "ppl_classifier = cv2.CascadeClassifier('pedestrian.xml')\n",
    "\n",
    "# Initiate video capture for video file\n",
    "cap = cv2.VideoCapture('ppl.avi')\n",
    "\n",
    "# Loop once video is successfully loaded\n",
    "while cap.isOpened():\n",
    "    \n",
    "    # Read first frame\n",
    "    ret, frame = cap.read()\n",
    "    gray = cv2.cvtColor(frame, cv2.COLOR_BGR2GRAY)\n",
    "   \n",
    "    # Pass frame to our car classifier\n",
    "    cars = car_classifier.detectMultiScale(gray, 1.6, 2)\n",
    "    \n",
    "    # Extract bounding boxes for any bodies identified\n",
    "    for (x,y,w,h) in cars:\n",
    "        cv2.rectangle(frame, (x, y), (x+w, y+h), (0, 255, 255), 2)\n",
    "        \n",
    "        #Region of Image\n",
    "        roi_cars=frame[y:y+h,x:x+w]\n",
    "        gray_cars=gray[y:y+h,x:x+w]\n",
    "        \n",
    "        # Pass frame to our bus classifier\n",
    "        bus = bus_classifier.detectMultiScale(gray, 1.4, 2)\n",
    "        \n",
    "        # Extract bounding boxes for any bodies identified\n",
    "        for (a,b,c,d) in bus:\n",
    "            cv2.rectangle(roi_cars, (a,b),(a+c,b+d), (255, 0, 255), 1)\n",
    "            \n",
    "            #Region of Image\n",
    "            roi_bus=roi_cars[y:y+h,x:x+w]\n",
    "            gray_bus=gray_cars[y:y+h,x:x+w]\n",
    "            \n",
    "            # Pass frame to our bike classifier\n",
    "            bike = bike_classifier.detectMultiScale(gray, 1, 2)\n",
    "            \n",
    "            # Extract bounding boxes for any bodies identified\n",
    "            for (p,q,r,s) in bike:\n",
    "                cv2.rectangle(roi_bus, (p,q),(p+r,q+s), (255, 255, 0), 3)\n",
    "                \n",
    "                #Region of Image\n",
    "                roi_bike=roi_bus[y:y+h,x:x+w]\n",
    "                gray_bike=gray_bus[y:y+h,x:x+w]\n",
    "                \n",
    "                # Pass frame to our bike classifier\n",
    "                ppl = ppl_classifier.detectMultiScale(gray, 1.25, 2)\n",
    "            \n",
    "                # Extract bounding boxes for any bodies identified\n",
    "                for (k,l,m,n) in bike:\n",
    "                    cv2.rectangle(roi_bike, (k,l),(k+m,l+n), (255, 255, 255), 4)\n",
    "                \n",
    "                \n",
    "    cv2.imshow('Vehicles', frame)\n",
    "\n",
    "    if cv2.waitKey(1) == 13: #13 is the Enter Key\n",
    "        break\n",
    "\n",
    "cap.release()\n",
    "cv2.destroyAllWindows()"
   ]
  },
  {
   "cell_type": "code",
   "execution_count": null,
   "metadata": {},
   "outputs": [],
   "source": []
  }
 ],
 "metadata": {
  "kernelspec": {
   "display_name": "Python 3",
   "language": "python",
   "name": "python3"
  },
  "language_info": {
   "codemirror_mode": {
    "name": "ipython",
    "version": 3
   },
   "file_extension": ".py",
   "mimetype": "text/x-python",
   "name": "python",
   "nbconvert_exporter": "python",
   "pygments_lexer": "ipython3",
   "version": "3.8.0"
  }
 },
 "nbformat": 4,
 "nbformat_minor": 4
}
