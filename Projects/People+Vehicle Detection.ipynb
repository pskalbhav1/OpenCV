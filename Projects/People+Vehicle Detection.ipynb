{
 "cells": [
  {
   "cell_type": "code",
   "execution_count": 1,
   "metadata": {},
   "outputs": [
    {
     "name": "stdout",
     "output_type": "stream",
     "text": [
      "People Detection\n",
      "By Praseedha Praveen Kalbhavi\n"
     ]
    }
   ],
   "source": [
    "import cv2\n",
    "\n",
    "print('People Detection')\n",
    "print('By Praseedha Praveen Kalbhavi')\n",
    "\n",
    "cap = cv2.VideoCapture('ppl.avi')\n",
    "\n",
    "ppl_cascade = cv2.CascadeClassifier('pedestrian.xml')\n",
    "\n",
    "while True:\n",
    "    ret, img = cap.read()\n",
    "\t\n",
    "    \n",
    "    if (type(img) == type(None)):\n",
    "        break\n",
    "    \n",
    "    gray = cv2.cvtColor(img, cv2.COLOR_BGR2GRAY)\n",
    "    ppl = ppl_cascade.detectMultiScale(gray,1.3,2)\n",
    "\n",
    "    for(a,b,c,d) in ppl:\n",
    "        cv2.rectangle(img,(a,b),(a+c,b+d),(0,0,255),4)\n",
    "    \n",
    "    cv2.imshow('video', img)\n",
    "    \n",
    "    if cv2.waitKey(33) == 27:\n",
    "        break\n",
    "\n",
    "cv2.destroyAllWindows()"
   ]
  },
  {
   "cell_type": "code",
   "execution_count": 2,
   "metadata": {},
   "outputs": [
    {
     "name": "stdout",
     "output_type": "stream",
     "text": [
      "Two-wheeler Detection\n",
      "By Praseedha Praveen Kalbhavi\n"
     ]
    }
   ],
   "source": [
    "import cv2\n",
    "\n",
    "print('Two-wheeler Detection')\n",
    "print('By Praseedha Praveen Kalbhavi')\n",
    "\n",
    "cap = cv2.VideoCapture('bike.mp4')\n",
    "\n",
    "two_cascade = cv2.CascadeClassifier('bike.xml')\n",
    "\n",
    "while True:\n",
    "    ret, img = cap.read()\n",
    "\t\n",
    "    \n",
    "    if (type(img) == type(None)):\n",
    "        break\n",
    "    \n",
    "    gray = cv2.cvtColor(img, cv2.COLOR_BGR2GRAY)\n",
    "    two_wheel = two_cascade.detectMultiScale(gray,1.3,2)\n",
    "\n",
    "    for(a,b,c,d) in two_wheel:\n",
    "        cv2.rectangle(img,(a,b),(a+c,b+d),(0,0,255),4)\n",
    "    \n",
    "    cv2.imshow('video', img)\n",
    "    \n",
    "    if cv2.waitKey(33) == 27:\n",
    "        break\n",
    "\n",
    "cv2.destroyAllWindows()"
   ]
  },
  {
   "cell_type": "code",
   "execution_count": 3,
   "metadata": {},
   "outputs": [
    {
     "name": "stdout",
     "output_type": "stream",
     "text": [
      "Car Detection\n",
      "By Praseedha Praveen Kalbhavi\n"
     ]
    }
   ],
   "source": [
    "import cv2\n",
    "\n",
    "print('Car Detection')\n",
    "print('By Praseedha Praveen Kalbhavi')\n",
    "\n",
    "cap = cv2.VideoCapture('video.avi')\n",
    "\n",
    "two_cascade = cv2.CascadeClassifier('car.xml')\n",
    "\n",
    "while True:\n",
    "    ret, img = cap.read()\n",
    "\t\n",
    "    \n",
    "    if (type(img) == type(None)):\n",
    "        break\n",
    "    \n",
    "    gray = cv2.cvtColor(img, cv2.COLOR_BGR2GRAY)\n",
    "    vehicle = two_cascade.detectMultiScale(gray,1.3,2)\n",
    "\n",
    "    for(a,b,c,d) in vehicle:\n",
    "        cv2.rectangle(img,(a,b),(a+c,b+d),(0,0,255),4)\n",
    "    \n",
    "    cv2.imshow('video', img)\n",
    "    \n",
    "    if cv2.waitKey(33) == 27:\n",
    "        break\n",
    "\n",
    "cv2.destroyAllWindows()"
   ]
  },
  {
   "cell_type": "code",
   "execution_count": 4,
   "metadata": {},
   "outputs": [
    {
     "name": "stdout",
     "output_type": "stream",
     "text": [
      "Bus Detection\n",
      "By Praseedha Praveen Kalbhavi\n"
     ]
    }
   ],
   "source": [
    "import cv2\n",
    "\n",
    "print('Bus Detection')\n",
    "print('By Praseedha Praveen Kalbhavi')\n",
    "\n",
    "cap = cv2.VideoCapture('bus1.mp4')\n",
    "\n",
    "two_cascade = cv2.CascadeClassifier('bus.xml')\n",
    "\n",
    "while True:\n",
    "    ret, img = cap.read()\n",
    "\t\n",
    "    \n",
    "    if (type(img) == type(None)):\n",
    "        break\n",
    "    \n",
    "    gray = cv2.cvtColor(img, cv2.COLOR_BGR2GRAY)\n",
    "    vehicle = two_cascade.detectMultiScale(gray,1.3,2)\n",
    "\n",
    "    for(a,b,c,d) in vehicle:\n",
    "        cv2.rectangle(img,(a,b),(a+c,b+d),(0,0,255),4)\n",
    "    \n",
    "    cv2.imshow('video', img)\n",
    "    \n",
    "    if cv2.waitKey(33) == 27:\n",
    "        break\n",
    "\n",
    "cv2.destroyAllWindows()"
   ]
  },
  {
   "cell_type": "code",
   "execution_count": null,
   "metadata": {},
   "outputs": [],
   "source": []
  }
 ],
 "metadata": {
  "kernelspec": {
   "display_name": "Python 3",
   "language": "python",
   "name": "python3"
  },
  "language_info": {
   "codemirror_mode": {
    "name": "ipython",
    "version": 3
   },
   "file_extension": ".py",
   "mimetype": "text/x-python",
   "name": "python",
   "nbconvert_exporter": "python",
   "pygments_lexer": "ipython3",
   "version": "3.8.0"
  }
 },
 "nbformat": 4,
 "nbformat_minor": 4
}
