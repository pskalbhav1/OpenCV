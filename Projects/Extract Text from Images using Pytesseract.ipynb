{
 "cells": [
  {
   "cell_type": "code",
   "execution_count": 47,
   "metadata": {},
   "outputs": [],
   "source": [
    "import numpy as np\n",
    "import cv2 as cv\n",
    "import pytesseract\n",
    "from pytesseract import Output\n",
    "import re"
   ]
  },
  {
   "cell_type": "code",
   "execution_count": 48,
   "metadata": {},
   "outputs": [],
   "source": [
    "pytesseract.pytesseract.tesseract_cmd = 'C:\\\\Program Files\\\\Tesseract-OCR\\\\tesseract.exe'"
   ]
  },
  {
   "cell_type": "code",
   "execution_count": 66,
   "metadata": {},
   "outputs": [
    {
     "name": "stdout",
     "output_type": "stream",
     "text": [
      "Nutrition Facts\n",
      "8 servings per container\n",
      "Serving size 2/3 cup (559)\n",
      "SS\n",
      "Amount per serving\n",
      "Calories 230\n",
      "Total Fat 83 10%\n",
      "Trans Fat 03\n",
      "Cholesterol Ons 0%\n",
      "Sodium 160m 7%\n",
      "Total Carbohydrate 675 13%\n",
      "Dieta Fiber 4g 14%\n",
      "Protein 33\n",
      "———\n",
      "Vitamin 2meg 0%\n",
      "Caleum 26019 20\n",
      "tron8mg a\n"
     ]
    }
   ],
   "source": [
    "img = cv.imread('sample4.png')\n",
    "\n",
    "h, w, c = img.shape\n",
    "\n",
    "custom_config = r'-c tessedit_char_blacklist= --psm 6'\n",
    "text=pytesseract.image_to_string(img, config=custom_config)\n",
    "#text = pytesseract.image_to_string(img) \n",
    "#boxes = pytesseract.image_to_boxes(img) \n",
    "d = pytesseract.image_to_data(img, output_type=Output.DICT)\n",
    "\n",
    "n_boxes = len(d['text'])\n",
    "\n",
    "for i in range(n_boxes):\n",
    "    if int(d['conf'][i]) > 20:\n",
    "        (x, y, w, h) = (d['left'][i], d['top'][i], d['width'][i], d['height'][i])\n",
    "        img = cv2.rectangle(img, (x, y), (x + w, y + h), (0, 255, 0), 2)\n",
    "    \n",
    "print(text)\n",
    "\n",
    "cv.imshow('img', img)\n",
    "cv.waitKey(0)\n",
    "cv.destroyAllWindows()"
   ]
  },
  {
   "cell_type": "code",
   "execution_count": null,
   "metadata": {},
   "outputs": [],
   "source": []
  }
 ],
 "metadata": {
  "kernelspec": {
   "display_name": "Python 3",
   "language": "python",
   "name": "python3"
  },
  "language_info": {
   "codemirror_mode": {
    "name": "ipython",
    "version": 3
   },
   "file_extension": ".py",
   "mimetype": "text/x-python",
   "name": "python",
   "nbconvert_exporter": "python",
   "pygments_lexer": "ipython3",
   "version": "3.8.3"
  }
 },
 "nbformat": 4,
 "nbformat_minor": 4
}
