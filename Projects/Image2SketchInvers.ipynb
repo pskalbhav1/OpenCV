{
 "cells": [
  {
   "cell_type": "code",
   "execution_count": 1,
   "metadata": {},
   "outputs": [],
   "source": [
    "#Image Sketching using OpenCV"
   ]
  },
  {
   "cell_type": "code",
   "execution_count": 2,
   "metadata": {},
   "outputs": [],
   "source": [
    "#Using OpenCV, an RGB image can be converted to a pencil sketch using just 4 simple steps:\n",
    "    #1.Convert the RGB color image to grayscale.\n",
    "    #2.Invert the grayscale image to get a negative.\n",
    "    #3.Apply a Gaussian blur to the negative from step 2.\n",
    "    #4.Blend the grayscale image from step 1 with the blurred negative from step 3 using a color dodge."
   ]
  },
  {
   "cell_type": "code",
   "execution_count": 3,
   "metadata": {},
   "outputs": [],
   "source": [
    "#Import the libraries\n",
    "import cv2 as cv"
   ]
  },
  {
   "cell_type": "code",
   "execution_count": 6,
   "metadata": {},
   "outputs": [],
   "source": [
    "#Read the Image\n",
    "img_rgb = cv.imread('imagergb.jpeg')"
   ]
  },
  {
   "cell_type": "code",
   "execution_count": 7,
   "metadata": {},
   "outputs": [],
   "source": [
    "#Convert Image to grayscale\n",
    "img_gray=cv.cvtColor(img_rgb,cv.COLOR_BGR2GRAY)"
   ]
  },
  {
   "cell_type": "code",
   "execution_count": 8,
   "metadata": {},
   "outputs": [],
   "source": [
    "#Obtain a negative Image"
   ]
  },
  {
   "cell_type": "code",
   "execution_count": 9,
   "metadata": {},
   "outputs": [],
   "source": [
    "#A negative of the image can be obtained \n",
    "#by \"inverting\" the grayscale value of every pixel. \n",
    "#Since by default grayscale values are represented as \n",
    "#integers in the range [0,255] (i.e., precision CV_8U),\n",
    "#the \"inverse\" of a grayscale value x is simply 255-x\n",
    "img_inv=255-img_gray"
   ]
  },
  {
   "cell_type": "code",
   "execution_count": 10,
   "metadata": {},
   "outputs": [],
   "source": [
    "#Applying Gaussian Blur"
   ]
  },
  {
   "cell_type": "code",
   "execution_count": 11,
   "metadata": {},
   "outputs": [],
   "source": [
    "#A Gaussian blur is an effective way to both reduce noise \n",
    "#and reduce the amount of detail in an image (also called smoothing an image). \n",
    "#Mathematically it is equivalent to convolving an \n",
    "#image with a Gaussian kernel. The size of the Gaussian \n",
    "#kernel can be passed to cv2.GaussianBlur as an optional \n",
    "#argument ksize. If both sigmaX and sigmaY are set to\n",
    "#zero, the width of the Gaussian kernel will be derived from ksize\n",
    "img_blur = cv.GaussianBlur(img_inv, ksize=(21, 21),\n",
    "                            sigmaX=0, sigmaY=0)"
   ]
  },
  {
   "cell_type": "code",
   "execution_count": 12,
   "metadata": {},
   "outputs": [],
   "source": [
    "#Blending the Grayscale Image with Blurred Negative"
   ]
  },
  {
   "cell_type": "code",
   "execution_count": 13,
   "metadata": {},
   "outputs": [],
   "source": [
    "#Dodging lightened an image, whereas burning darkened it.\n",
    "#For example, color dodging of an image A with a mask B is implemented as follows:\n",
    "\n",
    "    #((B[idx] == 255) ? B[idx] : min(255, ((A[idx] << 8) / (255-B[idx]))))\n",
    "\n",
    "def dodgeV2(image, mask):\n",
    "  return cv.divide(image, 255-mask, scale=256)"
   ]
  },
  {
   "cell_type": "code",
   "execution_count": 14,
   "metadata": {},
   "outputs": [],
   "source": [
    "def burnV2(image, mask):\n",
    "  return 255-cv.divide(255-image, 255-mask, scale=256)"
   ]
  },
  {
   "cell_type": "code",
   "execution_count": 15,
   "metadata": {},
   "outputs": [
    {
     "data": {
      "text/plain": [
       "True"
      ]
     },
     "execution_count": 15,
     "metadata": {},
     "output_type": "execute_result"
    }
   ],
   "source": [
    "img_blend = dodgeV2(img_gray, img_blur)\n",
    "img_burn=burnV2(img_gray,img_blur)\n",
    "#cv.imshow(\"pencil sketch\", img_blend)\n",
    "cv.imwrite('filename1.jpeg', img_burn) "
   ]
  },
  {
   "cell_type": "code",
   "execution_count": null,
   "metadata": {},
   "outputs": [],
   "source": []
  },
  {
   "cell_type": "code",
   "execution_count": null,
   "metadata": {},
   "outputs": [],
   "source": []
  }
 ],
 "metadata": {
  "kernelspec": {
   "display_name": "Python 3",
   "language": "python",
   "name": "python3"
  },
  "language_info": {
   "codemirror_mode": {
    "name": "ipython",
    "version": 3
   },
   "file_extension": ".py",
   "mimetype": "text/x-python",
   "name": "python",
   "nbconvert_exporter": "python",
   "pygments_lexer": "ipython3",
   "version": "3.8.2"
  }
 },
 "nbformat": 4,
 "nbformat_minor": 4
}
