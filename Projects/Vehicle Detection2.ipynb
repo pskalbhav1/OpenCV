{
 "cells": [
  {
   "cell_type": "code",
   "execution_count": null,
   "metadata": {},
   "outputs": [],
   "source": [
    "import cv2\n",
    "import time\n",
    "import numpy as np\n",
    "\n",
    "print('Advanced Traffic Management')\n",
    "print('By Praseedha Praveen Kalbhavi')\n",
    "\n",
    "# Create our body classifier\n",
    "car_classifier = cv2.CascadeClassifier('car.xml')\n",
    "bus_classifier = cv2.CascadeClassifier('bus.xml')\n",
    "bike_classifier = cv2.CascadeClassifier('bike.xml')\n",
    "ppl_classifier = cv2.CascadeClassifier('pedestrian.xml')\n",
    "\n",
    "# Initiate video capture for video file\n",
    "cap = cv2.VideoCapture('tt.mp4')\n",
    "\n",
    "# Loop once video is successfully loaded\n",
    "while cap.isOpened():\n",
    "    \n",
    "    # Read first frame\n",
    "    ret, frame = cap.read()\n",
    "    gray = cv2.cvtColor(frame, cv2.COLOR_BGR2GRAY)\n",
    "   \n",
    "    # Pass frame to our car classifier\n",
    "    cars = car_classifier.detectMultiScale(gray, 1.6, 2)\n",
    "    bus = bus_classifier.detectMultiScale(gray, 1.4, 2)\n",
    "    bike = bike_classifier.detectMultiScale(gray,1.8, 2)\n",
    "    ppl = ppl_classifier.detectMultiScale(gray, 1.25, 2)\n",
    "            \n",
    "    \n",
    "    # Extract bounding boxes for any bodies identified\n",
    "    for (x,y,w,h) in cars:\n",
    "        cv2.rectangle(frame, (x, y), (x+w, y+h), (0, 255, 255), 2)\n",
    "       \n",
    "    for (a,b,c,d) in bus:\n",
    "        cv2.rectangle(frame, (a,b),(a+c,b+d), (255, 0, 255), 1)\n",
    "        \n",
    "    for (p,q,r,s) in bike:\n",
    "        cv2.rectangle(frame, (p,q),(p+r,q+s), (255, 255, 0), 3)\n",
    "   \n",
    "    for (k,l,m,n) in ppl:\n",
    "        cv2.rectangle(frame, (k,l),(k+m,l+n), (255, 255, 255), 4)\n",
    "                \n",
    "                \n",
    "    cv2.imshow('Vehicles', frame)\n",
    "\n",
    "    if cv2.waitKey(1) == 13: #13 is the Enter Key\n",
    "        break\n",
    "\n",
    "cap.release()\n",
    "cv2.destroyAllWindows()"
   ]
  },
  {
   "cell_type": "code",
   "execution_count": null,
   "metadata": {},
   "outputs": [],
   "source": []
  }
 ],
 "metadata": {
  "kernelspec": {
   "display_name": "Python 3",
   "language": "python",
   "name": "python3"
  },
  "language_info": {
   "codemirror_mode": {
    "name": "ipython",
    "version": 3
   },
   "file_extension": ".py",
   "mimetype": "text/x-python",
   "name": "python",
   "nbconvert_exporter": "python",
   "pygments_lexer": "ipython3",
   "version": "3.8.0"
  }
 },
 "nbformat": 4,
 "nbformat_minor": 4
}
