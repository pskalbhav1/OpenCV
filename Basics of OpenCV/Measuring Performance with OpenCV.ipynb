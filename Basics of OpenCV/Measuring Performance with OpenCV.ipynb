{
 "cells": [
  {
   "cell_type": "code",
   "execution_count": 4,
   "metadata": {},
   "outputs": [
    {
     "name": "stdout",
     "output_type": "stream",
     "text": [
      "0.00012980293499529388\n",
      "0.26811249024213984\n"
     ]
    }
   ],
   "source": [
    "# Python also provides a module time which is helpful in measuring the time of execution\n",
    "# module profile helps to get detailed report on the code, like how much time each function in the code took, how many times the function was called etc\n",
    "# cv.getTickCount function returns the number of clock-cycles after a reference event (like the moment machine was switched ON) to the moment this function is called. So if you call it before and after the function execution, you get number of clock-cycles used to execute a function\n",
    "# cv.getTickFrequency function returns the frequency of clock-cycles, or the number of clock-cycles per second. \n",
    "# Part 1\n",
    "import cv2 as cv\n",
    "import numpy as np\n",
    "e1 = cv.getTickCount()\n",
    "# your code execution\n",
    "e2 = cv.getTickCount()\n",
    "time = (e2 - e1)/ cv.getTickFrequency()\n",
    "print(time)\n",
    "\n",
    "# Part 2\n",
    "img1 = cv.imread('download.jpg')\n",
    "e1 = cv.getTickCount()\n",
    "for i in range(5,49,2):\n",
    "    img1 = cv.medianBlur(img1,i)\n",
    "e2 = cv.getTickCount()\n",
    "t = (e2 - e1)/cv.getTickFrequency()\n",
    "print( t )\n",
    "# Result I got is 0.521107655 seconds\n",
    "# You can do the same with time module, Use time.time() function"
   ]
  },
  {
   "cell_type": "code",
   "execution_count": null,
   "metadata": {},
   "outputs": [],
   "source": []
  }
 ],
 "metadata": {
  "kernelspec": {
   "display_name": "Python 3",
   "language": "python",
   "name": "python3"
  },
  "language_info": {
   "codemirror_mode": {
    "name": "ipython",
    "version": 3
   },
   "file_extension": ".py",
   "mimetype": "text/x-python",
   "name": "python",
   "nbconvert_exporter": "python",
   "pygments_lexer": "ipython3",
   "version": "3.8.0"
  }
 },
 "nbformat": 4,
 "nbformat_minor": 4
}
