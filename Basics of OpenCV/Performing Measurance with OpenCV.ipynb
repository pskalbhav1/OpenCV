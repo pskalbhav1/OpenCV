{
 "cells": [
  {
   "cell_type": "code",
   "execution_count": 2,
   "metadata": {},
   "outputs": [
    {
     "name": "stdout",
     "output_type": "stream",
     "text": [
      "15982843807\n",
      "15982845560\n",
      "0.0010583652513270318\n"
     ]
    }
   ],
   "source": [
    "# Python also provides a module time which is helpful in measuring the time of execution\n",
    "# module profile helps to get detailed report on the code, like how much time each function in the code took, how many times the function was called etc\n",
    "# cv.getTickCount function returns the number of clock-cycles after a reference event (like the moment machine was switched ON) to the moment this function is called. So if you call it before and after the function execution, you get number of clock-cycles used to execute a function\n",
    "# cv.getTickFrequency function returns the frequency of clock-cycles, or the number of clock-cycles per second.\n",
    "import cv2 as cv\n",
    "import numpy as np\n",
    "e1 = cv.getTickCount()\n",
    "print(e1)\n",
    "# your code execution\n",
    "e2 = cv.getTickCount()\n",
    "print(e2)\n",
    "time = (e2 - e1)/ cv.getTickFrequency()\n",
    "print(time)"
   ]
  },
  {
   "cell_type": "code",
   "execution_count": null,
   "metadata": {},
   "outputs": [],
   "source": []
  }
 ],
 "metadata": {
  "kernelspec": {
   "display_name": "Python 3",
   "language": "python",
   "name": "python3"
  },
  "language_info": {
   "codemirror_mode": {
    "name": "ipython",
    "version": 3
   },
   "file_extension": ".py",
   "mimetype": "text/x-python",
   "name": "python",
   "nbconvert_exporter": "python",
   "pygments_lexer": "ipython3",
   "version": "3.8.0"
  }
 },
 "nbformat": 4,
 "nbformat_minor": 4
}
