{
 "cells": [
  {
   "cell_type": "code",
   "execution_count": 1,
   "metadata": {},
   "outputs": [
    {
     "name": "stdout",
     "output_type": "stream",
     "text": [
      "[[255]]\n",
      "[4]\n"
     ]
    }
   ],
   "source": [
    "# Image Addition\n",
    "# OpenCV addition -> saturated operation \n",
    "# Numpy addition -> modulo operation\n",
    "import numpy as np\n",
    "import cv2 as cv\n",
    "\n",
    "x = np.uint8([250])\n",
    "y = np.uint8([10])\n",
    "print( cv.add(x,y) ) # 250+10 = 260 => 255\n",
    "print( x+y )          # 250+10 = 260 % 256 = 4"
   ]
  },
  {
   "cell_type": "code",
   "execution_count": 2,
   "metadata": {},
   "outputs": [
    {
     "name": "stdout",
     "output_type": "stream",
     "text": [
      "(183, 275, 3)\n",
      "(183, 275, 3)\n"
     ]
    }
   ],
   "source": [
    "# Image Blending\n",
    "# g(x)=(1−α)f0(x)+αf1(x)  => gives a feeling of blend or transparency\n",
    "# By varying α from 0→1, you can perform a cool transition between one image to another.\n",
    "img1 = cv.imread('download.jpg')\n",
    "print(img1.shape)\n",
    "img2 = cv.imread('pic.jpg')\n",
    "print(img2.shape)\n",
    "dst = cv.addWeighted(img1,0.5,img2,0.5,0)\n",
    "# dst=α⋅img1+β⋅img2+γ \n",
    "# Here γ is taken as zero.\n",
    "cv.imshow('dst',dst)\n",
    "cv.waitKey(0)\n",
    "cv.destroyAllWindows()"
   ]
  },
  {
   "cell_type": "code",
   "execution_count": null,
   "metadata": {},
   "outputs": [],
   "source": []
  }
 ],
 "metadata": {
  "kernelspec": {
   "display_name": "Python 3",
   "language": "python",
   "name": "python3"
  },
  "language_info": {
   "codemirror_mode": {
    "name": "ipython",
    "version": 3
   },
   "file_extension": ".py",
   "mimetype": "text/x-python",
   "name": "python",
   "nbconvert_exporter": "python",
   "pygments_lexer": "ipython3",
   "version": "3.8.0"
  }
 },
 "nbformat": 4,
 "nbformat_minor": 4
}
