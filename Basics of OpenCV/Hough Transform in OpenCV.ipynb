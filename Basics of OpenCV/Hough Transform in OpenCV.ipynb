{
 "cells": [
  {
   "cell_type": "code",
   "execution_count": 8,
   "metadata": {},
   "outputs": [
    {
     "name": "stdout",
     "output_type": "stream",
     "text": [
      "[[[ 1.3500000e+02  1.5707964e+00]]\n",
      "\n",
      " [[-4.0500000e+02  3.0717795e+00]]\n",
      "\n",
      " [[ 2.4300000e+02  0.0000000e+00]]\n",
      "\n",
      " [[ 4.5300000e+02  1.5707964e+00]]\n",
      "\n",
      " [[-3.5100000e+02  3.0892327e+00]]\n",
      "\n",
      " [[-3.5600000e+02  3.0892327e+00]]\n",
      "\n",
      " [[ 2.4700000e+02  0.0000000e+00]]\n",
      "\n",
      " [[ 1.0000000e+00  0.0000000e+00]]\n",
      "\n",
      " [[ 1.7500000e+02  1.5707964e+00]]\n",
      "\n",
      " [[-4.0300000e+02  3.0717795e+00]]\n",
      "\n",
      " [[-3.9500000e+02  3.0717795e+00]]\n",
      "\n",
      " [[-2.8300000e+02  3.1241393e+00]]\n",
      "\n",
      " [[-3.9200000e+02  3.0717795e+00]]\n",
      "\n",
      " [[-3.9800000e+02  3.0717795e+00]]\n",
      "\n",
      " [[-4.0000000e+02  3.0717795e+00]]\n",
      "\n",
      " [[-3.1900000e+02  3.1066861e+00]]\n",
      "\n",
      " [[-4.1200000e+02  3.0717795e+00]]\n",
      "\n",
      " [[ 2.5200000e+02  1.5707964e+00]]\n",
      "\n",
      " [[ 2.4800000e+02  1.5707964e+00]]\n",
      "\n",
      " [[-3.1400000e+02  3.1066861e+00]]\n",
      "\n",
      " [[ 3.2900000e+02  1.5707964e+00]]\n",
      "\n",
      " [[-4.1000000e+02  3.0717795e+00]]\n",
      "\n",
      " [[ 1.7000000e+02  1.5707964e+00]]\n",
      "\n",
      " [[ 1.7600000e+02  3.4906585e-02]]\n",
      "\n",
      " [[-4.0800000e+02  3.0717795e+00]]]\n"
     ]
    },
    {
     "data": {
      "text/plain": [
       "True"
      ]
     },
     "execution_count": 8,
     "metadata": {},
     "output_type": "execute_result"
    }
   ],
   "source": [
    "import cv2 as cv\n",
    "import numpy as np\n",
    "img = cv.imread('Sudoko.png')\n",
    "gray = cv.cvtColor(img,cv.COLOR_BGR2GRAY)\n",
    "edges = cv.Canny(gray,50,150,apertureSize = 3)\n",
    "lines = cv.HoughLines(edges,1,np.pi/180,200)\n",
    "print(lines)\n",
    "for line in lines:\n",
    "    rho,theta = line[0]\n",
    "    a = np.cos(theta)\n",
    "    b = np.sin(theta)\n",
    "    x0 = a*rho\n",
    "    y0 = b*rho\n",
    "    x1 = int(x0 + 1000*(-b))\n",
    "    y1 = int(y0 + 1000*(a))\n",
    "    x2 = int(x0 - 1000*(-b))\n",
    "    y2 = int(y0 - 1000*(a))\n",
    "    cv.line(img,(x1,y1),(x2,y2),(0,0,255),2)\n",
    "cv.imwrite('houghlines3.jpg',img)"
   ]
  },
  {
   "cell_type": "code",
   "execution_count": null,
   "metadata": {},
   "outputs": [],
   "source": []
  },
  {
   "cell_type": "code",
   "execution_count": null,
   "metadata": {},
   "outputs": [],
   "source": []
  }
 ],
 "metadata": {
  "kernelspec": {
   "display_name": "Python 3",
   "language": "python",
   "name": "python3"
  },
  "language_info": {
   "codemirror_mode": {
    "name": "ipython",
    "version": 3
   },
   "file_extension": ".py",
   "mimetype": "text/x-python",
   "name": "python",
   "nbconvert_exporter": "python",
   "pygments_lexer": "ipython3",
   "version": "3.8.0"
  }
 },
 "nbformat": 4,
 "nbformat_minor": 4
}
