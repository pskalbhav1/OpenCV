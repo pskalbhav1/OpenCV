{
 "cells": [
  {
   "cell_type": "code",
   "execution_count": 3,
   "metadata": {},
   "outputs": [
    {
     "name": "stdout",
     "output_type": "stream",
     "text": [
      "[[0.]\n",
      " [0.]\n",
      " [0.]\n",
      " [0.]\n",
      " [0.]\n",
      " [1.]\n",
      " [1.]\n",
      " [1.]\n",
      " [1.]\n",
      " [1.]\n",
      " [2.]\n",
      " [0.]\n",
      " [2.]\n",
      " [2.]\n",
      " [2.]\n",
      " [3.]\n",
      " [3.]\n",
      " [3.]\n",
      " [3.]\n",
      " [3.]\n",
      " [4.]\n",
      " [4.]\n",
      " [4.]\n",
      " [4.]\n",
      " [4.]\n",
      " [3.]\n",
      " [5.]\n",
      " [1.]\n",
      " [5.]\n",
      " [3.]\n",
      " [6.]\n",
      " [6.]\n",
      " [6.]\n",
      " [6.]\n",
      " [6.]\n",
      " [7.]\n",
      " [7.]\n",
      " [7.]\n",
      " [7.]\n",
      " [7.]\n",
      " [8.]\n",
      " [1.]\n",
      " [8.]\n",
      " [8.]\n",
      " [8.]\n",
      " [9.]\n",
      " [9.]\n",
      " [9.]\n",
      " [9.]\n",
      " [9.]]\n"
     ]
    }
   ],
   "source": [
    "import cv2\n",
    "import numpy as np\n",
    "\n",
    "digits = cv2.imread(\"digits.png\", cv2.IMREAD_GRAYSCALE)\n",
    "test_digits = cv2.imread(\"test_digits.png\", cv2.IMREAD_GRAYSCALE)\n",
    "\n",
    "rows = np.vsplit(digits, 50)\n",
    "cells = []\n",
    "for row in rows:\n",
    "    row_cells = np.hsplit(row, 50)\n",
    "    for cell in row_cells:\n",
    "        cell = cell.flatten()\n",
    "        cells.append(cell)\n",
    "cells = np.array(cells, dtype=np.float32)\n",
    "\n",
    "k = np.arange(10)\n",
    "cells_labels = np.repeat(k, 250)\n",
    "\n",
    "\n",
    "test_digits = np.vsplit(test_digits, 50)\n",
    "test_cells = []\n",
    "for d in test_digits:\n",
    "    d = d.flatten()\n",
    "    test_cells.append(d)\n",
    "test_cells = np.array(test_cells, dtype=np.float32)\n",
    "\n",
    "\n",
    "# KNN\n",
    "knn = cv2.ml.KNearest_create()\n",
    "knn.train(cells, cv2.ml.ROW_SAMPLE, cells_labels)\n",
    "ret, result, neighbours, dist = knn.findNearest(test_cells, k=3)\n",
    "print(result)"
   ]
  },
  {
   "cell_type": "code",
   "execution_count": 4,
   "metadata": {},
   "outputs": [
    {
     "name": "stdout",
     "output_type": "stream",
     "text": [
      "['train', 'train_labels']\n"
     ]
    }
   ],
   "source": [
    "# save the data\n",
    "np.savez('knn_data.npz',train=train, train_labels=train_labels)\n",
    "# Now load the data\n",
    "with np.load('knn_data.npz') as data:\n",
    "    print( data.files )\n",
    "    train = data['train']\n",
    "    train_labels = data['train_labels']"
   ]
  },
  {
   "cell_type": "code",
   "execution_count": null,
   "metadata": {},
   "outputs": [],
   "source": []
  }
 ],
 "metadata": {
  "kernelspec": {
   "display_name": "Python 3",
   "language": "python",
   "name": "python3"
  },
  "language_info": {
   "codemirror_mode": {
    "name": "ipython",
    "version": 3
   },
   "file_extension": ".py",
   "mimetype": "text/x-python",
   "name": "python",
   "nbconvert_exporter": "python",
   "pygments_lexer": "ipython3",
   "version": "3.8.0"
  }
 },
 "nbformat": 4,
 "nbformat_minor": 4
}
